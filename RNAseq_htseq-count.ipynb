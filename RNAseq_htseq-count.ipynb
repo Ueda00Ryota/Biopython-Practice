{
 "cells": [
  {
   "cell_type": "code",
   "execution_count": null,
   "metadata": {},
   "outputs": [],
   "source": [
    "from BCBio import GFF\n",
    " \n",
    "# 読み込むGFFファイル名と出力するファイル名を指定する\n",
    "file_name = 'sample.gff'\n",
    "out_file_name = 'sample_mod.gff'\n",
    " \n",
    "# 処理したレコードを一時的に格納する\n",
    "records = []\n",
    " \n",
    "# 指定されたGFFファイルを開く\n",
    "with open(file_name) as handle:\n",
    "    gene_count = 1\n",
    " \n",
    "    # GFFファイルのレコードごとに処理をする\n",
    "    for record in GFF.parse(handle):\n",
    "        for f in record.features:\n",
    "            if f.type == \"gene\" or f.type == \"pseudogene\":\n",
    "                gene_id = \"gene_\" + str(gene_count).zfill(4)\n",
    "                f.qualifiers[\"gene_id\"] = [gene_id]\n",
    "                for sf in f.sub_features:\n",
    "                    sf.qualifiers[\"gene_id\"] = [gene_id]\n",
    "                    for ssf in sf.sub_features:\n",
    "                        ssf.qualifiers[\"gene_id\"] = [gene_id]\n",
    "                gene_count += 1\n",
    "        records.append(record)\n",
    " \n",
    "# 指定したGFFファイルを作成し、書き込む\n",
    "with open(out_file_name, \"w\") as fh:\n",
    "    GFF.write(records, fh)"
   ]
  },
  {
   "cell_type": "markdown",
   "metadata": {},
   "source": [
    "htseq-countコマンドを実行する\n",
    "htseq-countコマンドの書式は以下のようになります。\n",
    "\n",
    "\n",
    "htseq-count [options] <alignment_files> <gff_file>\n"
   ]
  },
  {
   "cell_type": "code",
   "execution_count": null,
   "metadata": {},
   "outputs": [],
   "source": []
  }
 ],
 "metadata": {
  "kernelspec": {
   "display_name": "Python 3.9.12 ('env1')",
   "language": "python",
   "name": "python3"
  },
  "language_info": {
   "name": "python",
   "version": "3.9.12"
  },
  "orig_nbformat": 4,
  "vscode": {
   "interpreter": {
    "hash": "587c556f78b61f270635310a4c2452efbfb3b04a6761a1c082233d7041e75985"
   }
  }
 },
 "nbformat": 4,
 "nbformat_minor": 2
}
